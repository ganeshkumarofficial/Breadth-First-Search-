{
 "cells": [
  {
   "cell_type": "code",
   "execution_count": 7,
   "metadata": {},
   "outputs": [
    {
     "data": {
      "image/png": "[encoded data removed]",
      "text/plain": [
       "<IPython.core.display.Image object>"
      ]
     },
     "metadata": {
      "image/png": {
       "unconfined": true,
       "width": 600
      }
     },
     "output_type": "display_data"
    }
   ],
   "source": [
    "from IPython.core.display import Image, display\n",
    "display(Image(r'C:\\Users\\Ganesh Professional\\Documents\\Data Structures\\BFSearch.png',width=600, unconfined=True))"
   ]
  },
  {
   "cell_type": "code",
   "execution_count": 8,
   "metadata": {},
   "outputs": [],
   "source": [
    "from queue import Queue\n",
    "\n",
    "adj_list={\n",
    "    \"A\":[\"B\",\"D\"],\n",
    "    \"B\":[\"A\",\"C\"],\n",
    "    \"C\":[\"B\"],\n",
    "    \"D\":[\"A\",\"E\",\"F\"],\n",
    "    \"E\":[\"D\",\"G\",\"F\"],\n",
    "    \"F\":[\"D\",\"E\",\"G\"],\n",
    "    \"G\":[\"E\",\"H\"],\n",
    "    \"H\":[\"G\",\"F\"]\n",
    "}"
   ]
  },
  {
   "cell_type": "code",
   "execution_count": 9,
   "metadata": {},
   "outputs": [
    {
     "name": "stdout",
     "output_type": "stream",
     "text": [
      "{'A': None, 'B': None, 'C': None, 'D': None, 'E': None, 'F': None, 'G': None, 'H': None}\n",
      "{'A': -1, 'B': -1, 'C': -1, 'D': -1, 'E': -1, 'F': -1, 'G': -1, 'H': -1}\n",
      "{'A': False, 'B': False, 'C': False, 'D': False, 'E': False, 'F': False, 'G': False, 'H': False}\n"
     ]
    }
   ],
   "source": [
    "#BFS variable Initialization\n",
    "\n",
    "parent = {}\n",
    "level ={}\n",
    "visited = {}\n",
    "output = []\n",
    "queue = Queue()\n",
    "\n",
    "for node in adj_list.keys():\n",
    "    parent[node] = None\n",
    "    level[node] = -1\n",
    "    visited[node] = False\n",
    "\n",
    "print(parent)\n",
    "print(level)\n",
    "print(visited)"
   ]
  },
  {
   "cell_type": "code",
   "execution_count": 41,
   "metadata": {},
   "outputs": [
    {
     "name": "stdout",
     "output_type": "stream",
     "text": [
      "['A', 'A', 'A', 'A', 'A', 'A', 'A', 'A', 'A', 'A', 'A', 'A', 'A', 'A', 'A', 'A', 'A', 'A', 'A', 'A', 'A', 'A', 'A', 'A', 'A', 'A', 'A', 'A', 'A', 'A']\n"
     ]
    }
   ],
   "source": [
    "source =\"A\"\n",
    "visited[source] = True\n",
    "level[source] = 0\n",
    "queue.put(source)\n",
    "\n",
    "\n",
    "while not queue.empty():\n",
    "    u = queue.get()\n",
    "    output.append(u)\n",
    "    for vertex in adj_list[u]:\n",
    "        if not visited[vertex]:\n",
    "            visited[vertex] = True\n",
    "            parent[vertex]=u\n",
    "            level[vertex]=level[u]+1\n",
    "            queue.put(vertex)\n",
    "print(output)"
   ]
  },
  {
   "cell_type": "code",
   "execution_count": null,
   "metadata": {},
   "outputs": [],
   "source": []
  },
  {
   "cell_type": "code",
   "execution_count": null,
   "metadata": {},
   "outputs": [],
   "source": []
  }
 ],
 "metadata": {
  "kernelspec": {
   "display_name": "Python 3",
   "language": "python",
   "name": "python3"
  },
  "language_info": {
   "codemirror_mode": {
    "name": "ipython",
    "version": 3
   },
   "file_extension": ".py",
   "mimetype": "text/x-python",
   "name": "python",
   "nbconvert_exporter": "python",
   "pygments_lexer": "ipython3",
   "version": "3.7.6"
  }
 },
 "nbformat": 4,
 "nbformat_minor": 4
}
